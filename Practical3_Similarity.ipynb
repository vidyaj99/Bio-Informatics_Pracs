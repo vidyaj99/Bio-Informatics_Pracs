{
  "nbformat": 4,
  "nbformat_minor": 0,
  "metadata": {
    "colab": {
      "name": "Practical3_Similarity.ipynb",
      "provenance": [],
      "authorship_tag": "ABX9TyN/LayC2znTrjyVe7ENmgH1",
      "include_colab_link": true
    },
    "kernelspec": {
      "name": "python3",
      "display_name": "Python 3"
    },
    "language_info": {
      "name": "python"
    }
  },
  "cells": [
    {
      "cell_type": "markdown",
      "metadata": {
        "id": "view-in-github",
        "colab_type": "text"
      },
      "source": [
        "<a href=\"https://colab.research.google.com/github/vj2268/Bio-Informatics_Pracs/blob/main/Practical3_Similarity.ipynb\" target=\"_parent\"><img src=\"https://colab.research.google.com/assets/colab-badge.svg\" alt=\"Open In Colab\"/></a>"
      ]
    },
    {
      "cell_type": "code",
      "execution_count": 3,
      "metadata": {
        "colab": {
          "base_uri": "https://localhost:8080/"
        },
        "id": "AW_4O0aaz4si",
        "outputId": "6ca20dc2-585c-4470-8179-1d12fb34385e"
      },
      "outputs": [
        {
          "output_type": "stream",
          "name": "stdout",
          "text": [
            "Enter the first sequence::asdfghjkla\n",
            "Enter the second sequence::artsfhjkkla\n",
            "How many elements for similarity condition?1\n",
            "Enter an element:f\n",
            "How many elements is it similaar to?2\n",
            "What is it similar to?s\n",
            "What is it similar to?g\n",
            "['a', 's', 'd', 'f', 'g', 'h', 'j', 'k', 'l', 'a']\n",
            "['a', 'r', 't', 's', 'f', 'h', 'j', 'k', 'k', 'l', 'a']\n",
            "[['f', 's', 'g']]\n",
            "20.0 %\n"
          ]
        }
      ],
      "source": [
        "sequence_one=input(\"Enter the first sequence::\")\n",
        "sequence_two=input(\"Enter the second sequence::\")\n",
        "how_many=int(input(\"How many elements for similarity condition?\"))\n",
        "similarities=[]\n",
        "for i in range(0,how_many):\n",
        "    a=input(\"Enter an element:\")\n",
        "    c=int(input(\"How many elements is it similaar to?\"))\n",
        "    similarities.append([])\n",
        "    similarities[i].append(a)\n",
        "\n",
        "    for j in range(0,c):\n",
        "        b=input(\"What is it similar to?\")\n",
        "        similarities[i].append(b)\n",
        "\n",
        "def compare(o,t,s):\n",
        "    print(o)\n",
        "    print(t)\n",
        "    print(s)\n",
        "    score=0\n",
        "    for i in range(len(o)):\n",
        "        for j in range(len(s)):\n",
        "            if o[i] in s[j] and t[i] in s[j] and o[i] != t[i]:\n",
        "                score+=1\n",
        "\n",
        "    similarity=(score*100)/len(o)\n",
        "    return similarity\n",
        "\n",
        "print(compare(list(sequence_one),list(sequence_two),similarities),\"%\")"
      ]
    }
  ]
}
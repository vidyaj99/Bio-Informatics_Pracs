{
  "nbformat": 4,
  "nbformat_minor": 0,
  "metadata": {
    "colab": {
      "name": "PercentageForSequence.ipynb",
      "provenance": [],
      "authorship_tag": "ABX9TyPT5XNGUYfAoai8W29ay82v",
      "include_colab_link": true
    },
    "kernelspec": {
      "name": "python3",
      "display_name": "Python 3"
    },
    "language_info": {
      "name": "python"
    }
  },
  "cells": [
    {
      "cell_type": "markdown",
      "metadata": {
        "id": "view-in-github",
        "colab_type": "text"
      },
      "source": [
        "<a href=\"https://colab.research.google.com/github/vj2268/Bio-Informatics_Pracs/blob/main/PercentageForSequence.ipynb\" target=\"_parent\"><img src=\"https://colab.research.google.com/assets/colab-badge.svg\" alt=\"Open In Colab\"/></a>"
      ]
    },
    {
      "cell_type": "code",
      "metadata": {
        "colab": {
          "base_uri": "https://localhost:8080/"
        },
        "id": "39_Oji5aB-vJ",
        "outputId": "ef2836b8-de0e-452b-a147-c78e6bbc728e"
      },
      "source": [
        "import random\n",
        "\n",
        "seq1 = input(\"Enter 1st Sequence (Type sequence as a string For eg: 'ALPLEV') : \").upper()  # Type sequence as 'TNLAOEC'\n",
        "print('First sequence is : ', seq1)\n",
        "seq2 = input(\"Enter 2nd Sequence : \").upper()  # Type sequence as 'TNLAOEC'\n",
        "print('Second sequence is : ', seq2)\n",
        "\n",
        "def CalculatePercentage(seq1, seq2):\n",
        "    s1 = [i for i in seq1]\n",
        "    s2 = [i for i in seq2]\n",
        "    if (len(s1) != len(s2)):  # Condition to check whether to insert gap or not\n",
        "        if (len(s1) > len(s2)):\n",
        "            lendiff = len(s1) - len(s2)\n",
        "            for i in range(lendiff):\n",
        "                randomize = random.randrange(0, len(s2))\n",
        "                s2.insert(randomize, '-')\n",
        "        else:\n",
        "            lendiff = len(s2) - len(s1)\n",
        "            for i in range(lendiff):\n",
        "                randomize = random.randrange(0, len(s1))\n",
        "                s1.insert(randomize, '-')\n",
        "    print(\"Sequence 1 : \", s1)  # After Gap values\n",
        "    print(\"Sequence 2 : \", s2)  # After inserting Gap\n",
        "    identity = 0\n",
        "    identitylist = []\n",
        "    for i in range(len(s1)):\n",
        "        if (s1[i] == s2[i] and (s1[i] != '-' and s2[i] != '-')):\n",
        "            identitylist.append([s1[i], s2[i]])\n",
        "            identity += 1\n",
        "    print('\\nIdentity list is ', identitylist)\n",
        "    print('Total identity is ', identity)\n",
        "\n",
        "    print('\\n----------------SIMILARITY-----------------')\n",
        "    tryagain = True  # Similarity coding starts here\n",
        "    while (tryagain == True):\n",
        "        try:\n",
        "            similarity = int(input('How many sequences you want to make similar , Please enter Number: '))\n",
        "        except Exception as e:\n",
        "            print('\\n---------Error: ', e, '----------')\n",
        "            print('*********Try again to enter a total amount of sequence**********\\n')\n",
        "            tryagain = True\n",
        "        else:\n",
        "            tryagain = False\n",
        "    similarsequence = []\n",
        "    for i in range(1, similarity + 1):\n",
        "        simi1 = input(f'\\nEnter similar value for similarity {i}, Enter only one character: ').upper()\n",
        "        simi2 = input(f'What you want to make similary to {simi1} :').upper()\n",
        "        similarsequence.append([simi1, simi2])\n",
        "        print('Your similar sequence : ', similarsequence)\n",
        "\n",
        "    totalsimilarity = 0\n",
        "    for i in range(len(s1)):\n",
        "        for j in similarsequence:\n",
        "            if (j[0] == s1[i] or j[0] == s2[i] and j[1] == s1[i] or j[1] == s2[i]):\n",
        "                totalsimilarity += 1\n",
        "    print('\\nTotal Similarity : ', totalsimilarity)\n",
        "\n",
        "    if ('-' in s1):\n",
        "        totalLength = len(s2)\n",
        "        print('Taking Total length of seq2 as ', totalLength, ' because seq1 has gaps')\n",
        "    else:\n",
        "        totalLength = len(s1)\n",
        "        print('Taking Total length of seq1 as ', totalLength, ' because seq2 has gaps')\n",
        "    ObtainedMatch = identity + totalsimilarity\n",
        "    print('Total obtained Match is : ', ObtainedMatch, '\\n')\n",
        "    return f'Percentage of 2 sequences are {ObtainedMatch / totalLength * 100}% '\n",
        "\n",
        "\n",
        "print(CalculatePercentage(seq1,seq2))"
      ],
      "execution_count": 1,
      "outputs": [
        {
          "output_type": "stream",
          "name": "stdout",
          "text": [
            "Enter 1st Sequence (Type sequence as a string For eg: 'ALPLEV') : TTTCCATTAATGATATTGACACCGGTGCTCCTTCTATTAGCACTGATATTGTCGATGTTACTAATGGTTT\n",
            "First sequence is :  TTTCCATTAATGATATTGACACCGGTGCTCCTTCTATTAGCACTGATATTGTCGATGTTACTAATGGTTT\n",
            "Enter 2nd Sequence : ATGTTTTTGATACTTTTAATTTCCTTACCAACGGCTTTTGCTGTTATAGGAGATTTAAAGTGTACTACGG\n",
            "Second sequence is :  ATGTTTTTGATACTTTTAATTTCCTTACCAACGGCTTTTGCTGTTATAGGAGATTTAAAGTGTACTACGG\n",
            "Sequence 1 :  ['T', 'T', 'T', 'C', 'C', 'A', 'T', 'T', 'A', 'A', 'T', 'G', 'A', 'T', 'A', 'T', 'T', 'G', 'A', 'C', 'A', 'C', 'C', 'G', 'G', 'T', 'G', 'C', 'T', 'C', 'C', 'T', 'T', 'C', 'T', 'A', 'T', 'T', 'A', 'G', 'C', 'A', 'C', 'T', 'G', 'A', 'T', 'A', 'T', 'T', 'G', 'T', 'C', 'G', 'A', 'T', 'G', 'T', 'T', 'A', 'C', 'T', 'A', 'A', 'T', 'G', 'G', 'T', 'T', 'T']\n",
            "Sequence 2 :  ['A', 'T', 'G', 'T', 'T', 'T', 'T', 'T', 'G', 'A', 'T', 'A', 'C', 'T', 'T', 'T', 'T', 'A', 'A', 'T', 'T', 'T', 'C', 'C', 'T', 'T', 'A', 'C', 'C', 'A', 'A', 'C', 'G', 'G', 'C', 'T', 'T', 'T', 'T', 'G', 'C', 'T', 'G', 'T', 'T', 'A', 'T', 'A', 'G', 'G', 'A', 'G', 'A', 'T', 'T', 'T', 'A', 'A', 'A', 'G', 'T', 'G', 'T', 'A', 'C', 'T', 'A', 'C', 'G', 'G']\n",
            "\n",
            "Identity list is  [['T', 'T'], ['T', 'T'], ['T', 'T'], ['A', 'A'], ['T', 'T'], ['T', 'T'], ['T', 'T'], ['T', 'T'], ['A', 'A'], ['C', 'C'], ['T', 'T'], ['C', 'C'], ['T', 'T'], ['T', 'T'], ['G', 'G'], ['C', 'C'], ['T', 'T'], ['A', 'A'], ['T', 'T'], ['A', 'A'], ['T', 'T'], ['A', 'A']]\n",
            "Total identity is  22\n",
            "\n",
            "----------------SIMILARITY-----------------\n",
            "How many sequences you want to make similar , Please enter Number: 1\n",
            "\n",
            "Enter similar value for similarity 1, Enter only one character: C\n",
            "What you want to make similary to C :A\n",
            "Your similar sequence :  [['C', 'A']]\n",
            "\n",
            "Total Similarity :  28\n",
            "Taking Total length of seq1 as  70  because seq2 has gaps\n",
            "Total obtained Match is :  50 \n",
            "\n",
            "Percentage of 2 sequences are 71.42857142857143% \n"
          ]
        }
      ]
    }
  ]
}

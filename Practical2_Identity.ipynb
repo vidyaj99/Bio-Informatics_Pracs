{
  "nbformat": 4,
  "nbformat_minor": 0,
  "metadata": {
    "colab": {
      "name": "Practical2_Identity.ipynb",
      "provenance": [],
      "authorship_tag": "ABX9TyPSvN8wY7TXLomn8eZAdGur",
      "include_colab_link": true
    },
    "kernelspec": {
      "name": "python3",
      "display_name": "Python 3"
    },
    "language_info": {
      "name": "python"
    }
  },
  "cells": [
    {
      "cell_type": "markdown",
      "metadata": {
        "id": "view-in-github",
        "colab_type": "text"
      },
      "source": [
        "<a href=\"https://colab.research.google.com/github/vj2268/Bio-Informatics_Pracs/blob/main/Practical2_Identity.ipynb\" target=\"_parent\"><img src=\"https://colab.research.google.com/assets/colab-badge.svg\" alt=\"Open In Colab\"/></a>"
      ]
    },
    {
      "cell_type": "code",
      "execution_count": 1,
      "metadata": {
        "colab": {
          "base_uri": "https://localhost:8080/"
        },
        "id": "RMIuRgHTzd9R",
        "outputId": "22396f57-b607-43f6-ed88-e5deaa9d1b7c"
      },
      "outputs": [
        {
          "output_type": "stream",
          "name": "stdout",
          "text": [
            "Enter the first sequence::asdrafyuib\n",
            "Enter the second sequence::asvhasyuab\n",
            "\n",
            "['a', 's', 'd', 'r', 'a', 'f', 'y', 'u', 'i', 'b']\n",
            "['a', 's', 'v', 'h', 'a', 's', 'y', 'u', 'a', 'b']\n",
            "Matching Score:: 11\n",
            "Identity of the sequences:: 11.0\n"
          ]
        }
      ],
      "source": [
        "se1=input(\"Enter the first sequence::\")\n",
        "se2=input(\"Enter the second sequence::\")\n",
        "seq1=list(se1)\n",
        "seq2=list(se2)\n",
        "\n",
        "def find_identity(a,b):\n",
        "    gap(a,b)\n",
        "    print(a)\n",
        "    print(b)\n",
        "    score=0\n",
        "    length=len(a)\n",
        "    total_elements=len(a)*len(b)\n",
        "    for i in range(0,length):\n",
        "        for j in range(0,length):\n",
        "            if(a[i]==b[j]):\n",
        "                score=score+1\n",
        "    identity=(score/total_elements)*100\n",
        "    print(\"Matching Score::\",score)\n",
        "    print(\"Identity of the sequences::\",identity)\n",
        "\n",
        "def gap(a,b):\n",
        "    if(len(a)==len(b)):\n",
        "        print()\n",
        "    else:\n",
        "        k=int(input(\"Enter the position to insert gap::\"))\n",
        "        if(len(a)<len(b)):\n",
        "            a.insert(k,'-')\n",
        "        else:\n",
        "            b.insert(k,'-')\n",
        "    return(a,b)\n",
        "find_identity(seq1,seq2)"
      ]
    }
  ]
}
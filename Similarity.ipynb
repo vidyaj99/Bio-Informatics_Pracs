{
  "nbformat": 4,
  "nbformat_minor": 0,
  "metadata": {
    "colab": {
      "name": "Similarity.ipynb",
      "provenance": [],
      "authorship_tag": "ABX9TyMrC34QU3feZIG6qDkRWyOF",
      "include_colab_link": true
    },
    "kernelspec": {
      "name": "python3",
      "display_name": "Python 3"
    },
    "language_info": {
      "name": "python"
    }
  },
  "cells": [
    {
      "cell_type": "markdown",
      "metadata": {
        "id": "view-in-github",
        "colab_type": "text"
      },
      "source": [
        "<a href=\"https://colab.research.google.com/github/vj2268/Bio-Informatics_Pracs/blob/main/Similarity.ipynb\" target=\"_parent\"><img src=\"https://colab.research.google.com/assets/colab-badge.svg\" alt=\"Open In Colab\"/></a>"
      ]
    },
    {
      "cell_type": "code",
      "metadata": {
        "colab": {
          "base_uri": "https://localhost:8080/"
        },
        "id": "TdV5E05nCh7T",
        "outputId": "cbdf9459-a2c3-4ad0-e65e-d6f82be060f2"
      },
      "source": [
        "import random\n",
        "\n",
        "\n",
        "class Similarity:\n",
        "    def __init__(self, seq1, seq2):\n",
        "        self.seq1 = seq1\n",
        "        self.seq2 = seq2\n",
        "        self.s1 = []\n",
        "        for i in seq1:\n",
        "            self.s1.append(i)\n",
        "        self.s2 = []\n",
        "        for i in seq2:\n",
        "            self.s2.append(i)\n",
        "\n",
        "    def __repr__(self):\n",
        "        return f\"SEQUENCE 1: {self.seq1}\\nSEQUENCE 2: {self.seq2}\"\n",
        "\n",
        "    def gap(self):\n",
        "        if len(self.seq1) != len(self.seq2):\n",
        "            if len(self.seq1) > len(self.seq2):\n",
        "                howmanygaps = len(self.seq1) - len(self.seq2)\n",
        "                for i in range(howmanygaps):\n",
        "                    self.s2.insert(random.randrange(0, len(self.seq1), 1), '-')\n",
        "                return [self.s1, self.s2]\n",
        "            else:\n",
        "                howmanygaps = len(self.seq2) - len(self.seq1)\n",
        "                for i in range(howmanygaps):\n",
        "                    self.s1.insert(random.randrange(0, len(self.s1), 1), '-')\n",
        "                return [self.s1, self.s2]\n",
        "        else:\n",
        "            return [self.s1, self.s2]\n",
        "\n",
        "    def checkSimilarity(self):\n",
        "        similarJunction = []\n",
        "        q = 'y'\n",
        "        while (q == 'y'):\n",
        "            sim1 = input(\"Enter a element that is going to be similar (String) : \")\n",
        "            similarJunction.append(sim1)\n",
        "            howMany = int(input('How many elements is going to be similar (Number) :'))\n",
        "            for i in range(howMany):\n",
        "                sim2 = input(f\"What are those elements that are similar to {sim1} : \")\n",
        "                similarJunction.append(sim2)\n",
        "\n",
        "            q = input('Do you want to make another pair of similar values .\\nSay y/n ? : ')\n",
        "        return similarJunction\n",
        "\n",
        "\n",
        "s = Similarity('actgat', 'gctaagtc')\n",
        "\n",
        "print(s.checkSimilarity())"
      ],
      "execution_count": 1,
      "outputs": [
        {
          "output_type": "stream",
          "name": "stdout",
          "text": [
            "Enter a element that is going to be similar (String) : jhondoe\n",
            "How many elements is going to be similar (Number) :1\n",
            "What are those elements that are similar to jhondoe : o\n",
            "Do you want to make another pair of similar values .\n",
            "Say y/n ? : y\n",
            "Enter a element that is going to be similar (String) : janedoe\n",
            "How many elements is going to be similar (Number) :0\n",
            "Do you want to make another pair of similar values .\n",
            "Say y/n ? : n\n",
            "['jhondoe', 'o', 'janedoe']\n"
          ]
        }
      ]
    }
  ]
}
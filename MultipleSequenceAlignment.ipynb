{
  "nbformat": 4,
  "nbformat_minor": 0,
  "metadata": {
    "colab": {
      "name": "MultipleSequenceAlignment.ipynb",
      "provenance": [],
      "authorship_tag": "ABX9TyPsgFAjvBlIz8+U3x5exehW",
      "include_colab_link": true
    },
    "kernelspec": {
      "name": "python3",
      "display_name": "Python 3"
    },
    "language_info": {
      "name": "python"
    }
  },
  "cells": [
    {
      "cell_type": "markdown",
      "metadata": {
        "id": "view-in-github",
        "colab_type": "text"
      },
      "source": [
        "<a href=\"https://colab.research.google.com/github/vj2268/Bio-Informatics_Pracs/blob/main/MultipleSequenceAlignment.ipynb\" target=\"_parent\"><img src=\"https://colab.research.google.com/assets/colab-badge.svg\" alt=\"Open In Colab\"/></a>"
      ]
    },
    {
      "cell_type": "code",
      "metadata": {
        "colab": {
          "base_uri": "https://localhost:8080/"
        },
        "id": "4hXPJWAXA1XK",
        "outputId": "94665837-40bf-466d-fddc-f58caf25e4f1"
      },
      "source": [
        "import random\n",
        "\n",
        "\n",
        "class MultipleSeq:\n",
        "    def __init__(self):\n",
        "        try:\n",
        "            howmany = int(input(\"How many number of sequence do you want (Enter Integer values) : \"))\n",
        "        except Exception as e:\n",
        "            print('\\n\\nError : ', e)\n",
        "        self.sequenceList = []\n",
        "        self.length = []\n",
        "        for i in range(1, howmany + 1):\n",
        "            seq = input(f'Enter sequence {i} : ').upper()  # Example : 'AOSLIE'\n",
        "            self.length.append(len(seq))\n",
        "            self.sequenceList.append([i for i in seq])\n",
        "\n",
        "    def gap(self):  # Insert gap\n",
        "        maxlength = max(self.length)\n",
        "        aftergapseq = []\n",
        "        for i in self.sequenceList:\n",
        "            if len(i) < maxlength:\n",
        "                difflength = maxlength - len(i)\n",
        "                for gapper in range(difflength):\n",
        "                    r = random.randrange(0, len(i), 1)\n",
        "                    i.insert(r, '-')\n",
        "                aftergapseq.append(i)\n",
        "            else:\n",
        "                aftergapseq.append(i)\n",
        "        print(\"After inserting gaps : \\n\", aftergapseq)\n",
        "        return aftergapseq\n",
        "\n",
        "    def multipleSequenceAlignment(self):\n",
        "        sequence = self.gap()\n",
        "        seq = []\n",
        "        for i in range(len(sequence[0])):\n",
        "            innerseq = []\n",
        "            for j in sequence:\n",
        "                innerseq.append(j[i])\n",
        "            seq.append(innerseq)\n",
        "        print(\"\\nMultiple Sequence Calculation\\n\", seq)\n",
        "        resulter = []\n",
        "        maxer = []\n",
        "        for i in seq:\n",
        "            innerresult = []\n",
        "            innermax = []\n",
        "            for j in i:\n",
        "                if j != '-':\n",
        "                    counter = i.count(j)\n",
        "                    innermax.append(counter)\n",
        "                    tur = (j, counter)\n",
        "                    innerresult.append(tur)\n",
        "            resulter.append(innerresult)\n",
        "            maxer.append(innermax)\n",
        "        result = []\n",
        "\n",
        "        for i in range(len(maxer)):\n",
        "            maximum = max(maxer[i])\n",
        "            ir = set()\n",
        "            for j in resulter[i]:\n",
        "                if (maximum == j[1]):\n",
        "                    ir.add(j[0])\n",
        "            result.append(ir)\n",
        "        maxerset = []\n",
        "        for i in maxer:\n",
        "            setter = set()\n",
        "            for j in i:\n",
        "                setter.add(j)\n",
        "            maxerset.append(setter)\n",
        "\n",
        "        lastlist = []\n",
        "        for i in range(len(maxerset)):\n",
        "            stp = ''\n",
        "            if (len(maxerset[i]) > 1):\n",
        "                for k in result[i]:\n",
        "                    stp = stp + k.lower()\n",
        "            else:\n",
        "                for k in result[i]:\n",
        "                    stp = stp + k.upper()\n",
        "            lastlist.append(stp)\n",
        "        print(\"\\n------------------The Result is----------------\\n\", lastlist)\n",
        "\n",
        "\n",
        "myseq = MultipleSeq()\n",
        "myseq.multipleSequenceAlignment()"
      ],
      "execution_count": 1,
      "outputs": [
        {
          "output_type": "stream",
          "name": "stdout",
          "text": [
            "How many number of sequence do you want (Enter Integer values) : 2\n",
            "Enter sequence 1 : QWERTYUIOPASDFGHJKLZXCVBNM\n",
            "Enter sequence 2 : QAZWSXEDCRFVTGBYHNUJMIKOLP\n",
            "After inserting gaps : \n",
            " [['Q', 'W', 'E', 'R', 'T', 'Y', 'U', 'I', 'O', 'P', 'A', 'S', 'D', 'F', 'G', 'H', 'J', 'K', 'L', 'Z', 'X', 'C', 'V', 'B', 'N', 'M'], ['Q', 'A', 'Z', 'W', 'S', 'X', 'E', 'D', 'C', 'R', 'F', 'V', 'T', 'G', 'B', 'Y', 'H', 'N', 'U', 'J', 'M', 'I', 'K', 'O', 'L', 'P']]\n",
            "\n",
            "Multiple Sequence Calculation\n",
            " [['Q', 'Q'], ['W', 'A'], ['E', 'Z'], ['R', 'W'], ['T', 'S'], ['Y', 'X'], ['U', 'E'], ['I', 'D'], ['O', 'C'], ['P', 'R'], ['A', 'F'], ['S', 'V'], ['D', 'T'], ['F', 'G'], ['G', 'B'], ['H', 'Y'], ['J', 'H'], ['K', 'N'], ['L', 'U'], ['Z', 'J'], ['X', 'M'], ['C', 'I'], ['V', 'K'], ['B', 'O'], ['N', 'L'], ['M', 'P']]\n",
            "\n",
            "------------------The Result is----------------\n",
            " ['Q', 'AW', 'ZE', 'WR', 'TS', 'YX', 'EU', 'ID', 'CO', 'RP', 'AF', 'VS', 'DT', 'GF', 'GB', 'HY', 'HJ', 'NK', 'LU', 'ZJ', 'MX', 'IC', 'KV', 'OB', 'NL', 'MP']\n"
          ]
        }
      ]
    }
  ]
}
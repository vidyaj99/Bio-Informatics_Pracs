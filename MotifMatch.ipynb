{
  "nbformat": 4,
  "nbformat_minor": 0,
  "metadata": {
    "colab": {
      "name": "MotifMatch.ipynb",
      "provenance": [],
      "authorship_tag": "ABX9TyMHbB289oTbQOzm4f7/Ssnb",
      "include_colab_link": true
    },
    "kernelspec": {
      "name": "python3",
      "display_name": "Python 3"
    },
    "language_info": {
      "name": "python"
    }
  },
  "cells": [
    {
      "cell_type": "markdown",
      "metadata": {
        "id": "view-in-github",
        "colab_type": "text"
      },
      "source": [
        "<a href=\"https://colab.research.google.com/github/vj2268/Bio-Informatics_Pracs/blob/main/MotifMatch.ipynb\" target=\"_parent\"><img src=\"https://colab.research.google.com/assets/colab-badge.svg\" alt=\"Open In Colab\"/></a>"
      ]
    },
    {
      "cell_type": "code",
      "execution_count": 1,
      "metadata": {
        "colab": {
          "base_uri": "https://localhost:8080/"
        },
        "id": "oeUYYyQAzqwo",
        "outputId": "6ca0b6f6-131f-42ce-904f-b8971565cde8"
      },
      "outputs": [
        {
          "output_type": "stream",
          "name": "stdout",
          "text": [
            "Enter Motif : ATTGCAT\n",
            "Enter Sequence : CGTAATCGTATTGCATTGACGTACATGATTGCATTTGCAACTGACGTATTGCAT\n",
            "Motif : ATTGCAT\n",
            "Sequence : CGTAATCGTATTGCATTGACGTACATGATTGCATTTGCAACTGACGTATTGCAT\n",
            "[9, 27, 47]\n"
          ]
        }
      ],
      "source": [
        "def BruteForce(s, m):\n",
        "    occurrences = []\n",
        "    for i in range(len(s)-len(m)+1): # loop over alignment\n",
        "        match = True\n",
        "        for j in range(len(m)): # loop over characters\n",
        "            if s[i+j] != m[j]:  # compare characters\n",
        "                match = False   # mismatch\n",
        "                break\n",
        "        if match:   # allchars matched\n",
        "            occurrences.append(i)\n",
        "\n",
        "    print(\"Motif : \" +m)\n",
        "    print(\"Sequence : \" +s)\n",
        "    print(occurrences) \n",
        "\n",
        "m = input(\"Enter Motif : \")\n",
        "\n",
        "\n",
        "s = input(\"Enter Sequence : \")\n",
        "\n",
        "BruteForce(s, m)"
      ]
    }
  ]
}
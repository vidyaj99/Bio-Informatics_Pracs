{
  "nbformat": 4,
  "nbformat_minor": 0,
  "metadata": {
    "colab": {
      "name": "Practical7_RegularExpression.ipynb",
      "provenance": [],
      "authorship_tag": "ABX9TyMxZphrrq9KZbOC0DinVmOX",
      "include_colab_link": true
    },
    "kernelspec": {
      "name": "python3",
      "display_name": "Python 3"
    },
    "language_info": {
      "name": "python"
    }
  },
  "cells": [
    {
      "cell_type": "markdown",
      "metadata": {
        "id": "view-in-github",
        "colab_type": "text"
      },
      "source": [
        "<a href=\"https://colab.research.google.com/github/vj2268/Bio-Informatics_Pracs/blob/main/Practical7_RegularExpression.ipynb\" target=\"_parent\"><img src=\"https://colab.research.google.com/assets/colab-badge.svg\" alt=\"Open In Colab\"/></a>"
      ]
    },
    {
      "cell_type": "code",
      "execution_count": 1,
      "metadata": {
        "colab": {
          "base_uri": "https://localhost:8080/"
        },
        "id": "vTJ1BJy69hif",
        "outputId": "495dcbac-6565-4853-fb32-46c21146655d"
      },
      "outputs": [
        {
          "output_type": "stream",
          "name": "stdout",
          "text": [
            "Enter the number of sequence: 4\n",
            "Enter all the sequences\n",
            " D L G A V F A L C D R Y F Q\n",
            " D V G P R S C F C E R F Y Q \n",
            " D L G R T Q L R C D R Y Y Q \n",
            " D I G Q P H S L C E R Y F Q\n",
            "D-VIL-G-x-x-x-x-LRF-C-DE-R-FY-FY-Q\n"
          ]
        }
      ],
      "source": [
        "def gen_reg_exp(seq_list, no_of_col):\n",
        "    final_list=[]\n",
        "    for colnum in range(no_of_col):\n",
        "        collist=[]\n",
        "        for colseq in seq_list:\n",
        "            collist.append(colseq[colnum])\n",
        "        if len(set(collist))==len(collist):\n",
        "            #print(final_list)\n",
        "            final_list.append('x')\n",
        "        else:\n",
        "            if len(set(collist))==1:\n",
        "                final_list.append(collist[0])\n",
        "            else:\n",
        "                final_list.append(''.join(set(collist)))\n",
        "    display_output(final_list) \n",
        "\n",
        "def display_output(final_list):\n",
        "    print(*final_list, sep='-')\n",
        "no_of_seq=int(input(\"Enter the number of sequence: \")) \n",
        "print(\"Enter all the sequences\") \n",
        "seq_list=[] \n",
        "for _ in range(no_of_seq): \n",
        "    seq_list.append(list(map(str, input(\"\").split()))) \n",
        "gen_reg_exp(seq_list, len(seq_list[0])) "
      ]
    }
  ]
}
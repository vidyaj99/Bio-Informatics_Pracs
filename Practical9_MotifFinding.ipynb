{
  "nbformat": 4,
  "nbformat_minor": 0,
  "metadata": {
    "colab": {
      "name": "Practical9_MotifFinding.ipynb",
      "provenance": [],
      "authorship_tag": "ABX9TyNqRVsXeB+/WCBqhsesSNbz",
      "include_colab_link": true
    },
    "kernelspec": {
      "name": "python3",
      "display_name": "Python 3"
    },
    "language_info": {
      "name": "python"
    }
  },
  "cells": [
    {
      "cell_type": "markdown",
      "metadata": {
        "id": "view-in-github",
        "colab_type": "text"
      },
      "source": [
        "<a href=\"https://colab.research.google.com/github/vj2268/Bio-Informatics_Pracs/blob/main/Practical9_MotifFinding.ipynb\" target=\"_parent\"><img src=\"https://colab.research.google.com/assets/colab-badge.svg\" alt=\"Open In Colab\"/></a>"
      ]
    },
    {
      "cell_type": "code",
      "execution_count": 3,
      "metadata": {
        "colab": {
          "base_uri": "https://localhost:8080/"
        },
        "id": "9pZsnKZ6BduL",
        "outputId": "11b8720b-74c9-4305-ba16-becbadb1da0a"
      },
      "outputs": [
        {
          "output_type": "stream",
          "name": "stdout",
          "text": [
            "Enter the length of motif4\n",
            "Sequence CCTCACCAACTTCAGCAACTTCTCTAGGGCCAACTTCCAACTTCTCAACTTCTCAACTTCCAACTTCCGACAACTTCTCCTGGCAACTTCCAACTTCCAACTTCAATACAACTTCGCAGACAACTT\n",
            "Size of the sequence 126\n",
            "Position 89\n",
            "Motif CCAA\n"
          ]
        }
      ],
      "source": [
        "import random \n",
        "l=int(input(\"Enter the length of motif\")) \n",
        "file=open(\"mot.txt\",\"r\") \n",
        "r=file.read() \n",
        "print(\"Sequence\",r) \n",
        "size=len(r) \n",
        "print(\"Size of the sequence\",size) \n",
        "pos=random.randint(0,len(r)-5) \n",
        "#pos=1 \n",
        "print(\"Position\",pos) \n",
        "motif=r[pos:pos+l] \n",
        "print(\"Motif\",motif) \n",
        "i=pos+1 \n",
        "while(i<=size-1): \n",
        "    if(motif==r[i:i+1]): \n",
        "        str1=r[i:i+1] \n",
        "        print(\"Match motif\",str1) \n",
        "        file1=open(\"motoutput.txt\",\"a\") \n",
        "        file1.write(str1+\" \") \n",
        "    i+=1"
      ]
    }
  ]
}
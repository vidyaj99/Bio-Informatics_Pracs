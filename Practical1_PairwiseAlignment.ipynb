{
  "nbformat": 4,
  "nbformat_minor": 0,
  "metadata": {
    "colab": {
      "name": "Practical1- PairwiseAlignment.ipynb",
      "provenance": [],
      "authorship_tag": "ABX9TyNJxCM9VZ4Zh9aUCg+PicNU",
      "include_colab_link": true
    },
    "kernelspec": {
      "name": "python3",
      "display_name": "Python 3"
    },
    "language_info": {
      "name": "python"
    }
  },
  "cells": [
    {
      "cell_type": "markdown",
      "metadata": {
        "id": "view-in-github",
        "colab_type": "text"
      },
      "source": [
        "<a href=\"https://colab.research.google.com/github/vj2268/Bio-Informatics_Pracs/blob/main/Practical1_PairwiseAlignment.ipynb\" target=\"_parent\"><img src=\"https://colab.research.google.com/assets/colab-badge.svg\" alt=\"Open In Colab\"/></a>"
      ]
    },
    {
      "cell_type": "code",
      "execution_count": 1,
      "metadata": {
        "colab": {
          "base_uri": "https://localhost:8080/"
        },
        "id": "TUk7B2OMzM06",
        "outputId": "ed058090-0ebe-4e77-baae-f3bb12d32549"
      },
      "outputs": [
        {
          "output_type": "stream",
          "name": "stdout",
          "text": [
            "Enter the first sequence::acgohdkwja\n",
            "Enter the second sequence::aojdibdwba\n",
            "\n",
            "['a', 'c', 'g', 'o', 'h', 'd', 'k', 'w', 'j', 'a']\n",
            "['a', 'o', 'j', 'd', 'i', 'b', 'd', 'w', 'b', 'a']\n",
            "['1', '0', '0', '0', '0', '0', '0', '1', '0', '1']\n",
            "3\n"
          ]
        }
      ],
      "source": [
        "se1=input(\"Enter the first sequence::\")\n",
        "se2=input(\"Enter the second sequence::\")\n",
        "seq1=list(se1)\n",
        "seq2=list(se2)\n",
        "score=[]\n",
        "\n",
        "def Pairwise_alignment(a,b):\n",
        "    gap(a,b)\n",
        "    print(a)\n",
        "    print(b)\n",
        "    value=0\n",
        "    length=len(a)\n",
        "    for i in range(0,length):\n",
        "        if(a[i]==b[i]):\n",
        "            score.append('1')\n",
        "            value=value+1\n",
        "        else:\n",
        "            score.append('0')\n",
        "    print(score)\n",
        "    print(value)\n",
        "\n",
        "def gap(a,b):\n",
        "    if(len(a)==len(b)):\n",
        "        print()\n",
        "    else:\n",
        "        k=int(input(\"Enter the position to insert\"))\n",
        "        if(len(a)<len(b)):\n",
        "            a.insert(k,'-')\n",
        "        else:\n",
        "            b.insert(k,'-')\n",
        "    return(a,b)\n",
        "\n",
        "Pairwise_alignment(seq1,seq2)"
      ]
    }
  ]
}
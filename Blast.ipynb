{
  "nbformat": 4,
  "nbformat_minor": 0,
  "metadata": {
    "colab": {
      "name": "Blast.ipynb",
      "provenance": [],
      "authorship_tag": "ABX9TyPzFI96J7V5nSdJtHhmn5W4",
      "include_colab_link": true
    },
    "kernelspec": {
      "name": "python3",
      "display_name": "Python 3"
    },
    "language_info": {
      "name": "python"
    }
  },
  "cells": [
    {
      "cell_type": "markdown",
      "metadata": {
        "id": "view-in-github",
        "colab_type": "text"
      },
      "source": [
        "<a href=\"https://colab.research.google.com/github/vj2268/Bio-Informatics_Pracs/blob/main/Blast.ipynb\" target=\"_parent\"><img src=\"https://colab.research.google.com/assets/colab-badge.svg\" alt=\"Open In Colab\"/></a>"
      ]
    },
    {
      "cell_type": "code",
      "metadata": {
        "colab": {
          "base_uri": "https://localhost:8080/"
        },
        "id": "JyZi-awv8hDV",
        "outputId": "6c9062c0-826a-4532-c629-e49a0729b588"
      },
      "source": [
        "# import re\n",
        "with open('Fasta.txt', 'r') as file:  # OC43 - Coronavirus\n",
        "    # seq=re.sub('\\n','',file.read())   #Removing all new lines from string\n",
        "    # print(seq)\n",
        "    seq = file.read()\n",
        "    print(f\"A->{seq.count('A')}\\nT->{seq.count('T')}\\nG->{seq.count('G')}\\nC->{seq.count('C')}\")"
      ],
      "execution_count": 1,
      "outputs": [
        {
          "output_type": "stream",
          "name": "stdout",
          "text": [
            "A->1139\n",
            "T->1487\n",
            "G->810\n",
            "C->656\n"
          ]
        }
      ]
    }
  ]
}